{
 "metadata": {
  "language": "haskell",
  "name": "",
  "signature": "sha256:03b9878cbd09bccbff07cf2a75ecc005a6bb27cb110751f7d72cbe252a99e2ef"
 },
 "nbformat": 3,
 "nbformat_minor": 0,
 "worksheets": [
  {
   "cells": [
    {
     "cell_type": "code",
     "collapsed": false,
     "input": [
      "import IHaskell.Display\n",
      "\n",
      "data Color = Red | Blue\n",
      "\n",
      "instance IHaskellDisplay Color where\n",
      "  display (Blue) = return $ Display [plain \"blue\", html \"<span style='color: blue'>blue</span>\"]\n",
      "  display (Red) = return $ Display [plain \"red\", html \"<span style='color: red'>red</span>\"]"
     ],
     "language": "python",
     "metadata": {
      "hidden": false
     },
     "outputs": [],
     "prompt_number": 12
    },
    {
     "cell_type": "code",
     "collapsed": false,
     "input": [
      "Red"
     ],
     "language": "python",
     "metadata": {
      "hidden": false
     },
     "outputs": [
      {
       "html": [
        "<span style='color: red'>red</span>"
       ],
       "metadata": {},
       "output_type": "display_data",
       "text": [
        "red"
       ]
      }
     ],
     "prompt_number": 13
    },
    {
     "cell_type": "code",
     "collapsed": false,
     "input": [
      "Blue"
     ],
     "language": "python",
     "metadata": {
      "hidden": false
     },
     "outputs": [
      {
       "html": [
        "<span style='color: blue'>blue</span>"
       ],
       "metadata": {},
       "output_type": "display_data",
       "text": [
        "blue"
       ]
      }
     ],
     "prompt_number": 14
    }
   ],
   "metadata": {}
  }
 ]
}